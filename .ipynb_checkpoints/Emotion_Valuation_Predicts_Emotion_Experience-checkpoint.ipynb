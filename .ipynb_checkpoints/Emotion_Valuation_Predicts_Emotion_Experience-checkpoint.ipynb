{
 "cells": [
  {
   "cell_type": "code",
   "execution_count": 1,
   "metadata": {},
   "outputs": [],
   "source": [
    "import pandas as pd\n",
    "import numpy as np\n",
    "import seaborn as sns\n",
    "import statsmodels.api as sm\n",
    "from scipy.stats.mstats import zscore"
   ]
  },
  {
   "cell_type": "code",
   "execution_count": 2,
   "metadata": {},
   "outputs": [],
   "source": [
    "df_study_3 = pd.read_csv('../../Data/study4_olr_formatted.csv', delimiter=',')"
   ]
  },
  {
   "cell_type": "code",
   "execution_count": 3,
   "metadata": {},
   "outputs": [],
   "source": [
    "#Get all got emotion valuation columns in separate arrays\n",
    "cols = df_study_3.columns\n",
    "\n",
    "eval_cols = [i for i in cols if len(i.split('Good'))>1]\n",
    "actual_cols = [i for i in cols if len(i.split('Actual'))>1]\n",
    "ideal_cols = [i for i in cols if len(i.split('Ideal'))>1]\n",
    "hedonic_cols = [i for i in cols if len(i.split('Pleasant'))>1]"
   ]
  },
  {
   "cell_type": "code",
   "execution_count": 4,
   "metadata": {},
   "outputs": [
    {
     "name": "stderr",
     "output_type": "stream",
     "text": [
      "/Users/phoenix/anaconda3/lib/python3.6/site-packages/numpy/core/fromnumeric.py:52: FutureWarning: Method .ptp is deprecated and will be removed in a future version. Use numpy.ptp instead.\n",
      "  return getattr(obj, method)(*args, **kwds)\n"
     ]
    }
   ],
   "source": [
    "#emotion concepts for multiplte regression\n",
    "emo_concepts_regression = ['Shame',\n",
    " 'Fear',\n",
    " 'Calm',\n",
    " 'Jealousy',\n",
    " 'Miserable',\n",
    " 'Lust',\n",
    " 'Disgust',\n",
    " 'Guilt',\n",
    " 'Pride',\n",
    " 'Excitement',\n",
    " 'Sadness',\n",
    " 'Happy',\n",
    " 'Love']\n",
    "model_summaries = []\n",
    "\n",
    "#run multiple regression predicting actual emotion experience from  emotion valuations\n",
    "for i in range(len(emo_concepts_regression)):\n",
    "    emotion = emo_concepts_regression[i]\n",
    "    eval_col = emotion+ 'Good'\n",
    "    ideal_col = emotion+'Ideal'\n",
    "    hedonic_col = emotion + 'Pleasant'\n",
    "    X = df_study_3[[eval_col,ideal_col,hedonic_col]]\n",
    "    y = df_study_3[emotion+str('Actual')]\n",
    "    X = sm.add_constant(X)\n",
    "    model = sm.OLS(y, X).fit()\n",
    "    predictions = model.predict(X) # make the predictions by the model\n",
    "\n",
    "    # Print out the statistics\n",
    "    model_summaries.append(model)\n",
    "    "
   ]
  },
  {
   "cell_type": "markdown",
   "metadata": {},
   "source": [
    "## Standardized Betas"
   ]
  },
  {
   "cell_type": "code",
   "execution_count": 5,
   "metadata": {},
   "outputs": [],
   "source": [
    "model_summaries_z_scores = []\n",
    "for i in range(len(emo_concepts_regression)):\n",
    "    emotion = emo_concepts_regression[i]\n",
    "    eval_col = emotion+str('Good')\n",
    "    ideal_col = emotion+'Ideal'\n",
    "    hedonic_col = emotion + 'Pleasant'\n",
    "    X = zscore(df_study_3[[eval_col,ideal_col,hedonic_col]])\n",
    "    y = zscore(df_study_3[emotion+str('Actual')])\n",
    "    X = sm.add_constant(X)\n",
    "    model = sm.OLS(y, X).fit()\n",
    "    predictions = model.predict(X) # make the predictions by the model\n",
    "\n",
    "    # Print out the statistics\n",
    "    model_summaries_z_scores.append(model)"
   ]
  },
  {
   "cell_type": "markdown",
   "metadata": {},
   "source": [
    "## Save data"
   ]
  },
  {
   "cell_type": "code",
   "execution_count": 6,
   "metadata": {},
   "outputs": [],
   "source": [
    "def create_df_of_betas(model_summaries):\n",
    "    P_Val_Const = []\n",
    "    P_Val_Good = []\n",
    "    P_Val_Ideal = []\n",
    "    P_Val_Pleasant = []\n",
    "    B_Val_Const = []\n",
    "    B_Val_Good = []\n",
    "    B_Val_Ideal = []\n",
    "    B_Val_Pleasant = []\n",
    "    r_squared = []\n",
    "    for i in range(len(emo_concepts_regression)):\n",
    "        P_Val_Const.append(model_summaries[i].pvalues[0])\n",
    "        P_Val_Good.append(model_summaries[i].pvalues[1])\n",
    "        P_Val_Ideal.append(model_summaries[i].pvalues[2])\n",
    "        P_Val_Pleasant.append(model_summaries[i].pvalues[3])\n",
    "        B_Val_Const.append(model_summaries[i].params[0])\n",
    "        B_Val_Good.append(model_summaries[i].params[1])\n",
    "        B_Val_Ideal.append(model_summaries[i].params[2])\n",
    "        B_Val_Pleasant.append(model_summaries[i].params[3])\n",
    "        r_squared.append(model_summaries[i].rsquared)\n",
    "\n",
    "    return pd.DataFrame({\n",
    "        'emotion':emo_concepts_regression,\n",
    "        'P_Val_Const':P_Val_Const,\n",
    "        'P_Val_Good':P_Val_Good,\n",
    "        'P_Val_Ideal':P_Val_Ideal,\n",
    "        'P_Val_Pleasant':P_Val_Pleasant,\n",
    "        'B_Val_Const':B_Val_Const,\n",
    "        'B_Val_Good':B_Val_Good,\n",
    "        'B_Val_Ideal':B_Val_Ideal,\n",
    "        'B_Val_Pleasant':B_Val_Pleasant,\n",
    "        'R_squared':r_squared\n",
    "    })    "
   ]
  },
  {
   "cell_type": "code",
   "execution_count": 7,
   "metadata": {},
   "outputs": [],
   "source": [
    "#create_df_of_betas(model_summaries_z_scores).to_excel('../../Data/Tables/RAW/Standardized_Betas_Multiple_Regression.xlsx')"
   ]
  },
  {
   "cell_type": "code",
   "execution_count": null,
   "metadata": {},
   "outputs": [],
   "source": []
  }
 ],
 "metadata": {
  "kernelspec": {
   "display_name": "Python 3",
   "language": "python",
   "name": "python3"
  },
  "language_info": {
   "codemirror_mode": {
    "name": "ipython",
    "version": 3
   },
   "file_extension": ".py",
   "mimetype": "text/x-python",
   "name": "python",
   "nbconvert_exporter": "python",
   "pygments_lexer": "ipython3",
   "version": "3.6.4"
  }
 },
 "nbformat": 4,
 "nbformat_minor": 2
}
