{
 "cells": [
  {
   "cell_type": "code",
   "execution_count": 10,
   "metadata": {},
   "outputs": [],
   "source": [
    "import pandas as pd\n",
    "import numpy as np\n",
    "import EmotionEvaluationCorrelationHelper as helper\n",
    "from scipy.stats import t, norm, pearsonr"
   ]
  },
  {
   "cell_type": "code",
   "execution_count": 11,
   "metadata": {},
   "outputs": [],
   "source": [
    "df_study_3 = pd.read_csv('data/study3_olr.csv', delimiter='\\t')\n",
    "df_study_3_AA = df_study_3.loc[df_study_3['Ethinicity_1AA2CA']==1]\n",
    "df_study_3_CA = df_study_3.loc[df_study_3['Ethinicity_1AA2CA']==2]\n",
    "\n",
    "corr_df_study_CA = helper.getPairwiseCorrelations(df_study_3_CA,'Good','Pleasant')\n",
    "corr_df_study_AA = helper.getPairwiseCorrelations(df_study_3_AA,'Good','Pleasant')\n",
    "\n",
    "sorted_corrs_CA = corr_df_study_CA.sort_values('corr_val_dim',ascending=True).reset_index(drop=True)\n",
    "sorted_corrs_AA = corr_df_study_AA.sort_values('corr_val_dim',ascending=True).reset_index(drop=True)"
   ]
  },
  {
   "cell_type": "code",
   "execution_count": 12,
   "metadata": {},
   "outputs": [],
   "source": [
    "def independent_corr(xy, ab, n, n2 = None, twotailed=True, conf_level=0.95, method='fisher'):\n",
    "    \"\"\"\n",
    "    Calculates the statistic significance between two independent correlation coefficients\n",
    "    @param xy: correlation coefficient between x and y\n",
    "    @param xz: correlation coefficient between a and b\n",
    "    @param n: number of elements in xy\n",
    "    @param n2: number of elements in ab (if distinct from n)\n",
    "    @param twotailed: whether to calculate a one or two tailed test, only works for 'fisher' method\n",
    "    @param conf_level: confidence level, only works for 'zou' method\n",
    "    @param method: defines the method uses, 'fisher' or 'zou'\n",
    "    @return: z and p-val\n",
    "    \"\"\"\n",
    "\n",
    "    if method == 'fisher':\n",
    "        xy_z = 0.5 * np.log((1 + xy)/(1 - xy))\n",
    "        ab_z = 0.5 * np.log((1 + ab)/(1 - ab))\n",
    "        if n2 is None:\n",
    "            n2 = n\n",
    "\n",
    "        se_diff_r = np.sqrt(1/(n - 3) + 1/(n2 - 3))\n",
    "        diff = xy_z - ab_z\n",
    "        z = abs(diff / se_diff_r)\n",
    "        p = (1 - norm.cdf(z))\n",
    "        if twotailed:\n",
    "            p *= 2\n",
    "\n",
    "        return z, p\n",
    "    elif method == 'zou':\n",
    "        L1 = rz_ci(xy, n, conf_level=conf_level)[0]\n",
    "        U1 = rz_ci(xy, n, conf_level=conf_level)[1]\n",
    "        L2 = rz_ci(ab, n2, conf_level=conf_level)[0]\n",
    "        U2 = rz_ci(ab, n2, conf_level=conf_level)[1]\n",
    "        lower = xy - ab - pow((pow((xy - L1), 2) + pow((U2 - ab), 2)), 0.5)\n",
    "        upper = xy - ab + pow((pow((U1 - xy), 2) + pow((ab - L2), 2)), 0.5)\n",
    "        return lower, upper\n",
    "    else:\n",
    "        raise Exception('Wrong method!')\n"
   ]
  },
  {
   "cell_type": "code",
   "execution_count": 13,
   "metadata": {},
   "outputs": [],
   "source": [
    "n_ca = len(df_study_3_CA)\n",
    "n_aa = len(df_study_3_AA)\n",
    "emotions = []\n",
    "AA_corr = []\n",
    "CA_corr = []\n",
    "z_score = []\n",
    "p_val =[]\n",
    "for emotion in sorted_corrs_AA['emotions']:\n",
    "    AA_corr.append(sorted_corrs_AA.loc[sorted_corrs_AA['emotions']==emotion]['corr_val_dim'].values[0])\n",
    "    CA_corr.append(sorted_corrs_CA.loc[sorted_corrs_CA['emotions']==emotion]['corr_val_dim'].values[0])\n",
    "    emotions.append(emotion)\n",
    "    z, p = independent_corr(AA_corr[-1],CA_corr[-1],n_aa,n_ca)\n",
    "    z_score.append(z)\n",
    "    p_val.append(p)\n",
    "corr_diff_df = pd.DataFrame(data={\n",
    "        'emotion':emotions,\n",
    "        'Asian American R Value':AA_corr,\n",
    "        'Caucasian American R Value':CA_corr,\n",
    "        'Z-value':z_score,\n",
    "        'p':p_val\n",
    "    })"
   ]
  },
  {
   "cell_type": "code",
   "execution_count": null,
   "metadata": {},
   "outputs": [],
   "source": [
    "corr_diff_df"
   ]
  }
 ],
 "metadata": {
  "kernelspec": {
   "display_name": "Python 3",
   "language": "python",
   "name": "python3"
  },
  "language_info": {
   "codemirror_mode": {
    "name": "ipython",
    "version": 3
   },
   "file_extension": ".py",
   "mimetype": "text/x-python",
   "name": "python",
   "nbconvert_exporter": "python",
   "pygments_lexer": "ipython3",
   "version": "3.6.4"
  }
 },
 "nbformat": 4,
 "nbformat_minor": 2
}
