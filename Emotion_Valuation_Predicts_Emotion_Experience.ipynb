{
 "cells": [
  {
   "cell_type": "code",
   "execution_count": 31,
   "metadata": {},
   "outputs": [],
   "source": [
    "import pandas as pd\n",
    "import numpy as np\n",
    "import seaborn as sns\n",
    "import matplotlib.pyplot as plt\n",
    "import statsmodels.api as sm\n",
    "from scipy.stats.mstats import zscore"
   ]
  },
  {
   "cell_type": "code",
   "execution_count": 2,
   "metadata": {},
   "outputs": [],
   "source": [
    "df_study_3 = pd.read_csv('../../Data/study4_olr_formatted.csv', delimiter=',')"
   ]
  },
  {
   "cell_type": "code",
   "execution_count": 3,
   "metadata": {},
   "outputs": [],
   "source": [
    "#Get all got emotion valuation columns in separate arrays\n",
    "cols = df_study_3.columns\n",
    "\n",
    "eval_cols = [i for i in cols if len(i.split('Good'))>1]\n",
    "actual_cols = [i for i in cols if len(i.split('Actual'))>1]\n",
    "ideal_cols = [i for i in cols if len(i.split('Ideal'))>1]\n",
    "hedonic_cols = [i for i in cols if len(i.split('Pleasant'))>1]"
   ]
  },
  {
   "cell_type": "code",
   "execution_count": 4,
   "metadata": {},
   "outputs": [
    {
     "name": "stderr",
     "output_type": "stream",
     "text": [
      "/Users/phoenix/anaconda3/lib/python3.6/site-packages/numpy/core/fromnumeric.py:52: FutureWarning: Method .ptp is deprecated and will be removed in a future version. Use numpy.ptp instead.\n",
      "  return getattr(obj, method)(*args, **kwds)\n"
     ]
    }
   ],
   "source": [
    "#emotion concepts for multiplte regression\n",
    "emo_concepts_regression = ['Shame',\n",
    " 'Fear',\n",
    " 'Calm',\n",
    " 'Jealousy',\n",
    " 'Miserable',\n",
    " 'Lust',\n",
    " 'Disgust',\n",
    " 'Guilt',\n",
    " 'Pride',\n",
    " 'Excitement',\n",
    " 'Sadness',\n",
    " 'Happy',\n",
    " 'Love']\n",
    "model_summaries = []\n",
    "\n",
    "#run multiple regression predicting actual emotion experience from  emotion valuations\n",
    "for i in range(len(emo_concepts_regression)):\n",
    "    emotion = emo_concepts_regression[i]\n",
    "    eval_col = emotion+ 'Good'\n",
    "    ideal_col = emotion+'Ideal'\n",
    "    hedonic_col = emotion + 'Pleasant'\n",
    "    X = df_study_3[[eval_col,ideal_col,hedonic_col]]\n",
    "    y = df_study_3[emotion+str('Actual')]\n",
    "    X = sm.add_constant(X)\n",
    "    model = sm.OLS(y, X).fit()\n",
    "    predictions = model.predict(X) # make the predictions by the model\n",
    "\n",
    "    # Print out the statistics\n",
    "    model_summaries.append(model)\n",
    "    "
   ]
  },
  {
   "cell_type": "markdown",
   "metadata": {},
   "source": [
    "## Standardized Betas"
   ]
  },
  {
   "cell_type": "code",
   "execution_count": 10,
   "metadata": {},
   "outputs": [],
   "source": [
    "# full model flat\n",
    "\n",
    "def CreateEmotionColumns(valuations_arr, emotion):\n",
    "    valuation_emotion_cols = []\n",
    "    for i in range(len(valuations_arr)):\n",
    "        column_name =emotion + valuations_arr[i]\n",
    "        valuation_emotion_cols.append(column_name)\n",
    "    return valuation_emotion_cols\n",
    "\n",
    "def LinearRegression(emotion_concepts,prediction_columns, predicted_column):\n",
    "    model_summaries = []\n",
    "    for i in range(len(emotion_concepts)):\n",
    "        emotion = emo_concepts_regression[i]\n",
    "        emotion_val_columns = CreateEmotionColumns(prediction_columns, emotion)\n",
    "        emotion_val_predict = emotion + predicted_column\n",
    "        X = zscore(df_study_3[emotion_val_columns])\n",
    "        y = zscore(df_study_3[emotion_val_predict])\n",
    "        X = sm.add_constant(X)\n",
    "        model = sm.OLS(y, X).fit()\n",
    "        predictions = model.predict(X) # make the predictions by the model\n",
    "\n",
    "        # Print out the statistics\n",
    "        model_summaries.append(model)\n",
    "    return model_summaries"
   ]
  },
  {
   "cell_type": "markdown",
   "metadata": {},
   "source": [
    "## flat model"
   ]
  },
  {
   "cell_type": "code",
   "execution_count": 12,
   "metadata": {},
   "outputs": [],
   "source": [
    "flat_model_summaries = LinearRegression(emo_concepts_regression, ['Good','Ideal','Pleasant'], 'Actual')"
   ]
  },
  {
   "cell_type": "code",
   "execution_count": null,
   "metadata": {},
   "outputs": [],
   "source": [
    "## good + hedonic predict desired"
   ]
  },
  {
   "cell_type": "code",
   "execution_count": 14,
   "metadata": {},
   "outputs": [],
   "source": [
    "# good + pleasant - predict desired\n",
    "#desired predict actual\n",
    "predict_ideal = LinearRegression(emo_concepts_regression,\n",
    "                                        ['Good','Pleasant'],\n",
    "                                        'Ideal')\n",
    "ideal_predict_actual = LinearRegression(emo_concepts_regression,\n",
    "                                        ['Ideal'],\n",
    "                                        'Actual')"
   ]
  },
  {
   "cell_type": "markdown",
   "metadata": {},
   "source": [
    "## Save data"
   ]
  },
  {
   "cell_type": "code",
   "execution_count": 44,
   "metadata": {},
   "outputs": [],
   "source": [
    "def create_df_of_betas_3(model_summaries, emo_concepts_regression):\n",
    "    P_Val_Const,P_Val_Good,P_Val_Ideal,P_Val_Pleasant = [], [], [], []\n",
    "    B_Val_Const, B_Val_Good, B_Val_Ideal, B_Val_Pleasant =  [], [], [], []\n",
    "    r_squared = []\n",
    "    for i in range(len(emo_concepts_regression)):\n",
    "        P_Val_Const.append(model_summaries[i].pvalues[0])\n",
    "        P_Val_Good.append(model_summaries[i].pvalues[1])\n",
    "        P_Val_Ideal.append(model_summaries[i].pvalues[2])\n",
    "        P_Val_Pleasant.append(model_summaries[i].pvalues[3])\n",
    "        B_Val_Const.append(model_summaries[i].params[0])\n",
    "        B_Val_Good.append(model_summaries[i].params[1])\n",
    "        B_Val_Ideal.append(model_summaries[i].params[2])\n",
    "        B_Val_Pleasant.append(model_summaries[i].params[3])\n",
    "        r_squared.append(model_summaries[i].rsquared)\n",
    "\n",
    "    return pd.DataFrame({\n",
    "        'emotion':emo_concepts_regression,\n",
    "        'P_Val_Const':P_Val_Const,\n",
    "        'P_Val_Good':P_Val_Good,\n",
    "        'P_Val_Ideal':P_Val_Ideal,\n",
    "        'P_Val_Pleasant':P_Val_Pleasant,\n",
    "        'B_Val_Const':B_Val_Const,\n",
    "        'B_Val_Good':B_Val_Good,\n",
    "        'B_Val_Ideal':B_Val_Ideal,\n",
    "        'B_Val_Pleasant':B_Val_Pleasant,\n",
    "        'R_squared':r_squared\n",
    "    })\n",
    "\n",
    "def create_df_of_betas_2(model_summaries, emo_concepts_regression):\n",
    "    P_Val_Const,P_Val_Good,P_Val_Pleasant = [], [], []\n",
    "    B_Val_Const, B_Val_Good,B_Val_Pleasant = [], [], []\n",
    "    r_squared = []\n",
    "    \n",
    "    for i in range(len(emo_concepts_regression)):\n",
    "        P_Val_Const.append(model_summaries[i].pvalues[0])\n",
    "        P_Val_Good.append(model_summaries[i].pvalues[1])\n",
    "        P_Val_Pleasant.append(model_summaries[i].pvalues[2])\n",
    "        B_Val_Const.append(model_summaries[i].params[0])\n",
    "        B_Val_Good.append(model_summaries[i].params[1])\n",
    "        B_Val_Pleasant.append(model_summaries[i].params[2])\n",
    "        r_squared.append(model_summaries[i].rsquared)\n",
    "\n",
    "    return pd.DataFrame({\n",
    "        'emotion':emo_concepts_regression,\n",
    "        'P_Val_Const':P_Val_Const,\n",
    "        'P_Val_Good':P_Val_Good,\n",
    "        'P_Val_Pleasant':P_Val_Pleasant,\n",
    "        'B_Val_Const':B_Val_Const,\n",
    "        'B_Val_Good':B_Val_Good,\n",
    "        'B_Val_Pleasant':B_Val_Pleasant,\n",
    "        'R_squared':r_squared\n",
    "    }) \n",
    "\n",
    "def create_df_of_betas_1(model_summaries, emo_concepts_regression):\n",
    "    P_Val_Const, P_Val_Ideal, B_Val_Const, B_Val_Ideal, r_squared = [],[],[],[],[]\n",
    "    for i in range(len(emo_concepts_regression)):\n",
    "        P_Val_Const.append(model_summaries[i].pvalues[0])\n",
    "        P_Val_Ideal.append(model_summaries[i].pvalues[1])\n",
    "        B_Val_Const.append(model_summaries[i].params[0])\n",
    "        B_Val_Ideal.append(model_summaries[i].params[1])\n",
    "        r_squared.append(model_summaries[i].rsquared)\n",
    "\n",
    "    return pd.DataFrame({\n",
    "        'emotion':emo_concepts_regression,\n",
    "        'P_Val_Const':P_Val_Const,\n",
    "        'P_Val_Ideal':P_Val_Ideal,\n",
    "        'B_Val_Const':B_Val_Const,\n",
    "        'B_Val_Ideal':B_Val_Ideal,\n",
    "        'R_squared':r_squared\n",
    "    }) "
   ]
  },
  {
   "cell_type": "code",
   "execution_count": 23,
   "metadata": {},
   "outputs": [],
   "source": [
    "#create_df_of_betas(model_summaries_z_scores).to_excel('../../Data/Tables/RAW/Standardized_Betas_Multiple_Regression.xlsx')"
   ]
  },
  {
   "cell_type": "code",
   "execution_count": 29,
   "metadata": {},
   "outputs": [
    {
     "data": {
      "text/html": [
       "<div>\n",
       "<style scoped>\n",
       "    .dataframe tbody tr th:only-of-type {\n",
       "        vertical-align: middle;\n",
       "    }\n",
       "\n",
       "    .dataframe tbody tr th {\n",
       "        vertical-align: top;\n",
       "    }\n",
       "\n",
       "    .dataframe thead th {\n",
       "        text-align: right;\n",
       "    }\n",
       "</style>\n",
       "<table border=\"1\" class=\"dataframe\">\n",
       "  <thead>\n",
       "    <tr style=\"text-align: right;\">\n",
       "      <th></th>\n",
       "      <th>emotion</th>\n",
       "      <th>P_Val_Const</th>\n",
       "      <th>P_Val_Ideal</th>\n",
       "      <th>B_Val_Const</th>\n",
       "      <th>B_Val_Ideal</th>\n",
       "      <th>R_squared</th>\n",
       "    </tr>\n",
       "  </thead>\n",
       "  <tbody>\n",
       "    <tr>\n",
       "      <th>0</th>\n",
       "      <td>Shame</td>\n",
       "      <td>1.0</td>\n",
       "      <td>2.878868e-24</td>\n",
       "      <td>-7.122890e-17</td>\n",
       "      <td>0.711254</td>\n",
       "      <td>0.505883</td>\n",
       "    </tr>\n",
       "    <tr>\n",
       "      <th>1</th>\n",
       "      <td>Fear</td>\n",
       "      <td>1.0</td>\n",
       "      <td>2.440526e-22</td>\n",
       "      <td>3.787088e-17</td>\n",
       "      <td>0.689442</td>\n",
       "      <td>0.475331</td>\n",
       "    </tr>\n",
       "    <tr>\n",
       "      <th>2</th>\n",
       "      <td>Calm</td>\n",
       "      <td>1.0</td>\n",
       "      <td>3.108439e-11</td>\n",
       "      <td>3.277371e-17</td>\n",
       "      <td>0.509860</td>\n",
       "      <td>0.259957</td>\n",
       "    </tr>\n",
       "    <tr>\n",
       "      <th>3</th>\n",
       "      <td>Jealousy</td>\n",
       "      <td>1.0</td>\n",
       "      <td>3.341400e-22</td>\n",
       "      <td>9.439319e-18</td>\n",
       "      <td>0.687822</td>\n",
       "      <td>0.473100</td>\n",
       "    </tr>\n",
       "    <tr>\n",
       "      <th>4</th>\n",
       "      <td>Miserable</td>\n",
       "      <td>1.0</td>\n",
       "      <td>5.211645e-23</td>\n",
       "      <td>8.112720e-18</td>\n",
       "      <td>0.697252</td>\n",
       "      <td>0.486160</td>\n",
       "    </tr>\n",
       "    <tr>\n",
       "      <th>5</th>\n",
       "      <td>Lust</td>\n",
       "      <td>1.0</td>\n",
       "      <td>2.250729e-26</td>\n",
       "      <td>-5.233415e-17</td>\n",
       "      <td>0.732979</td>\n",
       "      <td>0.537259</td>\n",
       "    </tr>\n",
       "    <tr>\n",
       "      <th>6</th>\n",
       "      <td>Disgust</td>\n",
       "      <td>1.0</td>\n",
       "      <td>1.714839e-27</td>\n",
       "      <td>9.862367e-17</td>\n",
       "      <td>0.743707</td>\n",
       "      <td>0.553101</td>\n",
       "    </tr>\n",
       "    <tr>\n",
       "      <th>7</th>\n",
       "      <td>Guilt</td>\n",
       "      <td>1.0</td>\n",
       "      <td>2.128386e-21</td>\n",
       "      <td>2.814976e-17</td>\n",
       "      <td>0.678056</td>\n",
       "      <td>0.459760</td>\n",
       "    </tr>\n",
       "    <tr>\n",
       "      <th>8</th>\n",
       "      <td>Pride</td>\n",
       "      <td>1.0</td>\n",
       "      <td>4.958848e-12</td>\n",
       "      <td>1.177255e-16</td>\n",
       "      <td>0.527159</td>\n",
       "      <td>0.277897</td>\n",
       "    </tr>\n",
       "    <tr>\n",
       "      <th>9</th>\n",
       "      <td>Excitement</td>\n",
       "      <td>1.0</td>\n",
       "      <td>3.289602e-12</td>\n",
       "      <td>-9.439153e-17</td>\n",
       "      <td>0.530897</td>\n",
       "      <td>0.281852</td>\n",
       "    </tr>\n",
       "    <tr>\n",
       "      <th>10</th>\n",
       "      <td>Sadness</td>\n",
       "      <td>1.0</td>\n",
       "      <td>1.321189e-12</td>\n",
       "      <td>2.253097e-17</td>\n",
       "      <td>0.539045</td>\n",
       "      <td>0.290569</td>\n",
       "    </tr>\n",
       "    <tr>\n",
       "      <th>11</th>\n",
       "      <td>Happy</td>\n",
       "      <td>1.0</td>\n",
       "      <td>1.771047e-06</td>\n",
       "      <td>-2.443242e-16</td>\n",
       "      <td>0.379850</td>\n",
       "      <td>0.144286</td>\n",
       "    </tr>\n",
       "    <tr>\n",
       "      <th>12</th>\n",
       "      <td>Love</td>\n",
       "      <td>1.0</td>\n",
       "      <td>6.088848e-05</td>\n",
       "      <td>1.644658e-16</td>\n",
       "      <td>0.322361</td>\n",
       "      <td>0.103916</td>\n",
       "    </tr>\n",
       "  </tbody>\n",
       "</table>\n",
       "</div>"
      ],
      "text/plain": [
       "       emotion  P_Val_Const   P_Val_Ideal   B_Val_Const  B_Val_Ideal  \\\n",
       "0        Shame          1.0  2.878868e-24 -7.122890e-17     0.711254   \n",
       "1         Fear          1.0  2.440526e-22  3.787088e-17     0.689442   \n",
       "2         Calm          1.0  3.108439e-11  3.277371e-17     0.509860   \n",
       "3     Jealousy          1.0  3.341400e-22  9.439319e-18     0.687822   \n",
       "4    Miserable          1.0  5.211645e-23  8.112720e-18     0.697252   \n",
       "5         Lust          1.0  2.250729e-26 -5.233415e-17     0.732979   \n",
       "6      Disgust          1.0  1.714839e-27  9.862367e-17     0.743707   \n",
       "7        Guilt          1.0  2.128386e-21  2.814976e-17     0.678056   \n",
       "8        Pride          1.0  4.958848e-12  1.177255e-16     0.527159   \n",
       "9   Excitement          1.0  3.289602e-12 -9.439153e-17     0.530897   \n",
       "10     Sadness          1.0  1.321189e-12  2.253097e-17     0.539045   \n",
       "11       Happy          1.0  1.771047e-06 -2.443242e-16     0.379850   \n",
       "12        Love          1.0  6.088848e-05  1.644658e-16     0.322361   \n",
       "\n",
       "    R_squared  \n",
       "0    0.505883  \n",
       "1    0.475331  \n",
       "2    0.259957  \n",
       "3    0.473100  \n",
       "4    0.486160  \n",
       "5    0.537259  \n",
       "6    0.553101  \n",
       "7    0.459760  \n",
       "8    0.277897  \n",
       "9    0.281852  \n",
       "10   0.290569  \n",
       "11   0.144286  \n",
       "12   0.103916  "
      ]
     },
     "execution_count": 29,
     "metadata": {},
     "output_type": "execute_result"
    }
   ],
   "source": [
    "create_df_of_betas_1(ideal_predict_actual)"
   ]
  },
  {
   "cell_type": "code",
   "execution_count": 27,
   "metadata": {},
   "outputs": [],
   "source": [
    "create_df_of_betas_2(predict_ideal)"
   ]
  },
  {
   "cell_type": "code",
   "execution_count": 26,
   "metadata": {},
   "outputs": [
    {
     "data": {
      "text/html": [
       "<table class=\"simpletable\">\n",
       "<caption>OLS Regression Results</caption>\n",
       "<tr>\n",
       "  <th>Dep. Variable:</th>            <td>y</td>        <th>  R-squared:         </th> <td>   0.380</td>\n",
       "</tr>\n",
       "<tr>\n",
       "  <th>Model:</th>                   <td>OLS</td>       <th>  Adj. R-squared:    </th> <td>   0.372</td>\n",
       "</tr>\n",
       "<tr>\n",
       "  <th>Method:</th>             <td>Least Squares</td>  <th>  F-statistic:       </th> <td>   44.76</td>\n",
       "</tr>\n",
       "<tr>\n",
       "  <th>Date:</th>             <td>Mon, 29 Jul 2019</td> <th>  Prob (F-statistic):</th> <td>6.91e-16</td>\n",
       "</tr>\n",
       "<tr>\n",
       "  <th>Time:</th>                 <td>13:58:52</td>     <th>  Log-Likelihood:    </th> <td> -175.80</td>\n",
       "</tr>\n",
       "<tr>\n",
       "  <th>No. Observations:</th>      <td>   149</td>      <th>  AIC:               </th> <td>   357.6</td>\n",
       "</tr>\n",
       "<tr>\n",
       "  <th>Df Residuals:</th>          <td>   146</td>      <th>  BIC:               </th> <td>   366.6</td>\n",
       "</tr>\n",
       "<tr>\n",
       "  <th>Df Model:</th>              <td>     2</td>      <th>                     </th>     <td> </td>   \n",
       "</tr>\n",
       "<tr>\n",
       "  <th>Covariance Type:</th>      <td>nonrobust</td>    <th>                     </th>     <td> </td>   \n",
       "</tr>\n",
       "</table>\n",
       "<table class=\"simpletable\">\n",
       "<tr>\n",
       "    <td></td>       <th>coef</th>     <th>std err</th>      <th>t</th>      <th>P>|t|</th>  <th>[0.025</th>    <th>0.975]</th>  \n",
       "</tr>\n",
       "<tr>\n",
       "  <th>const</th> <td>-3.055e-16</td> <td>    0.065</td> <td>-4.69e-15</td> <td> 1.000</td> <td>   -0.129</td> <td>    0.129</td>\n",
       "</tr>\n",
       "<tr>\n",
       "  <th>x1</th>    <td>    0.3679</td> <td>    0.091</td> <td>    4.035</td> <td> 0.000</td> <td>    0.188</td> <td>    0.548</td>\n",
       "</tr>\n",
       "<tr>\n",
       "  <th>x2</th>    <td>    0.3004</td> <td>    0.091</td> <td>    3.294</td> <td> 0.001</td> <td>    0.120</td> <td>    0.481</td>\n",
       "</tr>\n",
       "</table>\n",
       "<table class=\"simpletable\">\n",
       "<tr>\n",
       "  <th>Omnibus:</th>       <td>78.879</td> <th>  Durbin-Watson:     </th> <td>   1.819</td>\n",
       "</tr>\n",
       "<tr>\n",
       "  <th>Prob(Omnibus):</th> <td> 0.000</td> <th>  Jarque-Bera (JB):  </th> <td> 387.482</td>\n",
       "</tr>\n",
       "<tr>\n",
       "  <th>Skew:</th>          <td>-1.911</td> <th>  Prob(JB):          </th> <td>7.23e-85</td>\n",
       "</tr>\n",
       "<tr>\n",
       "  <th>Kurtosis:</th>      <td> 9.914</td> <th>  Cond. No.          </th> <td>    2.38</td>\n",
       "</tr>\n",
       "</table><br/><br/>Warnings:<br/>[1] Standard Errors assume that the covariance matrix of the errors is correctly specified."
      ],
      "text/plain": [
       "<class 'statsmodels.iolib.summary.Summary'>\n",
       "\"\"\"\n",
       "                            OLS Regression Results                            \n",
       "==============================================================================\n",
       "Dep. Variable:                      y   R-squared:                       0.380\n",
       "Model:                            OLS   Adj. R-squared:                  0.372\n",
       "Method:                 Least Squares   F-statistic:                     44.76\n",
       "Date:                Mon, 29 Jul 2019   Prob (F-statistic):           6.91e-16\n",
       "Time:                        13:58:52   Log-Likelihood:                -175.80\n",
       "No. Observations:                 149   AIC:                             357.6\n",
       "Df Residuals:                     146   BIC:                             366.6\n",
       "Df Model:                           2                                         \n",
       "Covariance Type:            nonrobust                                         \n",
       "==============================================================================\n",
       "                 coef    std err          t      P>|t|      [0.025      0.975]\n",
       "------------------------------------------------------------------------------\n",
       "const      -3.055e-16      0.065  -4.69e-15      1.000      -0.129       0.129\n",
       "x1             0.3679      0.091      4.035      0.000       0.188       0.548\n",
       "x2             0.3004      0.091      3.294      0.001       0.120       0.481\n",
       "==============================================================================\n",
       "Omnibus:                       78.879   Durbin-Watson:                   1.819\n",
       "Prob(Omnibus):                  0.000   Jarque-Bera (JB):              387.482\n",
       "Skew:                          -1.911   Prob(JB):                     7.23e-85\n",
       "Kurtosis:                       9.914   Cond. No.                         2.38\n",
       "==============================================================================\n",
       "\n",
       "Warnings:\n",
       "[1] Standard Errors assume that the covariance matrix of the errors is correctly specified.\n",
       "\"\"\""
      ]
     },
     "execution_count": 26,
     "metadata": {},
     "output_type": "execute_result"
    }
   ],
   "source": [
    "predict_ideal[i].summary()"
   ]
  },
  {
   "cell_type": "code",
   "execution_count": 32,
   "metadata": {},
   "outputs": [
    {
     "data": {
      "text/plain": [
       "<matplotlib.collections.PathCollection at 0x1c1850fbe0>"
      ]
     },
     "execution_count": 32,
     "metadata": {},
     "output_type": "execute_result"
    },
    {
     "data": {
      "image/png": "[encoded data removed]",
      "text/plain": [
       "<Figure size 432x288 with 1 Axes>"
      ]
     },
     "metadata": {},
     "output_type": "display_data"
    }
   ],
   "source": [
    "plt.scatter(df_study_3['LoveIdeal'],df_study_3['LoveActual'])"
   ]
  },
  {
   "cell_type": "code",
   "execution_count": 42,
   "metadata": {},
   "outputs": [
    {
     "name": "stderr",
     "output_type": "stream",
     "text": [
      "/Users/phoenix/anaconda3/lib/python3.6/site-packages/numpy/core/fromnumeric.py:52: FutureWarning: Method .ptp is deprecated and will be removed in a future version. Use numpy.ptp instead.\n",
      "  return getattr(obj, method)(*args, **kwds)\n"
     ]
    }
   ],
   "source": [
    "X = df_study_3['LoveIdeal']\n",
    "y = df_study_3['LoveActual']\n",
    "X = sm.add_constant(X)\n",
    "model = sm.OLS(y, X).fit()\n",
    "predictions = model.predict(X)"
   ]
  },
  {
   "cell_type": "code",
   "execution_count": 43,
   "metadata": {},
   "outputs": [
    {
     "data": {
      "text/html": [
       "<table class=\"simpletable\">\n",
       "<tr>\n",
       "        <td>Model:</td>               <td>OLS</td>         <td>Adj. R-squared:</td>     <td>0.098</td>  \n",
       "</tr>\n",
       "<tr>\n",
       "  <td>Dependent Variable:</td>    <td>LoveActual</td>           <td>AIC:</td>         <td>1371.5011</td>\n",
       "</tr>\n",
       "<tr>\n",
       "         <td>Date:</td>        <td>2019-07-29 16:37</td>        <td>BIC:</td>         <td>1377.5090</td>\n",
       "</tr>\n",
       "<tr>\n",
       "   <td>No. Observations:</td>         <td>149</td>         <td>Log-Likelihood:</td>    <td>-683.75</td> \n",
       "</tr>\n",
       "<tr>\n",
       "       <td>Df Model:</td>              <td>1</td>           <td>F-statistic:</td>       <td>17.05</td>  \n",
       "</tr>\n",
       "<tr>\n",
       "     <td>Df Residuals:</td>           <td>147</td>       <td>Prob (F-statistic):</td> <td>6.09e-05</td> \n",
       "</tr>\n",
       "<tr>\n",
       "      <td>R-squared:</td>            <td>0.104</td>            <td>Scale:</td>         <td>574.50</td>  \n",
       "</tr>\n",
       "</table>\n",
       "<table class=\"simpletable\">\n",
       "<tr>\n",
       "      <td></td>       <th>Coef.</th>  <th>Std.Err.</th>    <th>t</th>    <th>P>|t|</th> <th>[0.025</th>  <th>0.975]</th> \n",
       "</tr>\n",
       "<tr>\n",
       "  <th>const</th>     <td>18.2350</td>  <td>13.6129</td> <td>1.3395</td> <td>0.1825</td> <td>-8.6672</td> <td>45.1372</td>\n",
       "</tr>\n",
       "<tr>\n",
       "  <th>LoveIdeal</th> <td>0.6179</td>   <td>0.1497</td>  <td>4.1288</td> <td>0.0001</td> <td>0.3222</td>  <td>0.9137</td> \n",
       "</tr>\n",
       "</table>\n",
       "<table class=\"simpletable\">\n",
       "<tr>\n",
       "     <td>Omnibus:</td>    <td>43.969</td>  <td>Durbin-Watson:</td>    <td>1.864</td>\n",
       "</tr>\n",
       "<tr>\n",
       "  <td>Prob(Omnibus):</td>  <td>0.000</td> <td>Jarque-Bera (JB):</td> <td>73.519</td>\n",
       "</tr>\n",
       "<tr>\n",
       "       <td>Skew:</td>     <td>-1.482</td>     <td>Prob(JB):</td>      <td>0.000</td>\n",
       "</tr>\n",
       "<tr>\n",
       "     <td>Kurtosis:</td>    <td>4.748</td>  <td>Condition No.:</td>     <td>631</td> \n",
       "</tr>\n",
       "</table>"
      ],
      "text/plain": [
       "<class 'statsmodels.iolib.summary2.Summary'>\n",
       "\"\"\"\n",
       "                 Results: Ordinary least squares\n",
       "==================================================================\n",
       "Model:              OLS              Adj. R-squared:     0.098    \n",
       "Dependent Variable: LoveActual       AIC:                1371.5011\n",
       "Date:               2019-07-29 16:37 BIC:                1377.5090\n",
       "No. Observations:   149              Log-Likelihood:     -683.75  \n",
       "Df Model:           1                F-statistic:        17.05    \n",
       "Df Residuals:       147              Prob (F-statistic): 6.09e-05 \n",
       "R-squared:          0.104            Scale:              574.50   \n",
       "--------------------------------------------------------------------\n",
       "             Coef.    Std.Err.     t      P>|t|     [0.025    0.975]\n",
       "--------------------------------------------------------------------\n",
       "const       18.2350    13.6129   1.3395   0.1825   -8.6672   45.1372\n",
       "LoveIdeal    0.6179     0.1497   4.1288   0.0001    0.3222    0.9137\n",
       "------------------------------------------------------------------\n",
       "Omnibus:               43.969       Durbin-Watson:          1.864 \n",
       "Prob(Omnibus):         0.000        Jarque-Bera (JB):       73.519\n",
       "Skew:                  -1.482       Prob(JB):               0.000 \n",
       "Kurtosis:              4.748        Condition No.:          631   \n",
       "==================================================================\n",
       "\n",
       "\"\"\""
      ]
     },
     "execution_count": 43,
     "metadata": {},
     "output_type": "execute_result"
    }
   ],
   "source": [
    "model.summary2()"
   ]
  },
  {
   "cell_type": "code",
   "execution_count": 39,
   "metadata": {},
   "outputs": [],
   "source": [
    "from sklearn.linear_model import LinearRegression"
   ]
  },
  {
   "cell_type": "code",
   "execution_count": 40,
   "metadata": {},
   "outputs": [],
   "source": [
    "reg = LinearRegression().fit(X, y)"
   ]
  },
  {
   "cell_type": "code",
   "execution_count": 41,
   "metadata": {},
   "outputs": [
    {
     "data": {
      "text/plain": [
       "array([0.        , 0.32236075])"
      ]
     },
     "execution_count": 41,
     "metadata": {},
     "output_type": "execute_result"
    }
   ],
   "source": [
    "reg.coef_"
   ]
  },
  {
   "cell_type": "code",
   "execution_count": null,
   "metadata": {},
   "outputs": [],
   "source": []
  }
 ],
 "metadata": {
  "kernelspec": {
   "display_name": "Python 3",
   "language": "python",
   "name": "python3"
  },
  "language_info": {
   "codemirror_mode": {
    "name": "ipython",
    "version": 3
   },
   "file_extension": ".py",
   "mimetype": "text/x-python",
   "name": "python",
   "nbconvert_exporter": "python",
   "pygments_lexer": "ipython3",
   "version": "3.6.4"
  }
 },
 "nbformat": 4,
 "nbformat_minor": 2
}
