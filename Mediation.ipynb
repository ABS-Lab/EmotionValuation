{
 "cells": [
  {
   "cell_type": "code",
   "execution_count": 7,
   "metadata": {},
   "outputs": [],
   "source": [
    "from pyprocessmacro import Process\n",
    "import numpy as np\n",
    "import pandas as pd\n"
   ]
  },
  {
   "cell_type": "code",
   "execution_count": 8,
   "metadata": {},
   "outputs": [
    {
     "data": {
      "text/plain": [
       "Index(['\"subject', 'ShameGood', 'ShamePleasant', 'ShameIdeal', 'ShameActual',\n",
       "       'FearGood', 'FearPleasant', 'FearIdeal', 'FearActual', 'CalmGood',\n",
       "       'CalmPleasant', 'CalmIdeal', 'CalmActual', 'JealousyGood',\n",
       "       'JealousyPleasant', 'JealousyIdeal', 'JealousyActual', 'MiserableGood',\n",
       "       'MiserablePleasant', 'MiserableIdeal', 'MiserableActual', 'LustGood',\n",
       "       'LustPleasant', 'LustIdeal', 'LustActual', 'DisgustGood',\n",
       "       'DisgustPleasant', 'DisgustIdeal', 'DisgustActual', 'GuiltGood',\n",
       "       'GuiltPleasant', 'GuiltIdeal', 'GuiltActual', 'HappyGood',\n",
       "       'HappyPleasant', 'HappyIdeal', 'HappyActual', 'LoveGood',\n",
       "       'LovePleasant', 'LoveIdeal', 'LoveActual', 'PrideGood', 'PridePleasant',\n",
       "       'PrideIdeal', 'PrideActual', 'ExcitementGood', 'ExcitementPleasant',\n",
       "       'ExcitementIdeal', 'ExcitementActual', 'SadnessGood', 'SadnessPleasant',\n",
       "       'SadnessIdeal', 'SadnessActual', 'subject', 'Age', 'GenderF1M2U3',\n",
       "       'HispanicLatinoY1N2', 'Ethnicity'],\n",
       "      dtype='object')"
      ]
     },
     "execution_count": 8,
     "metadata": {},
     "output_type": "execute_result"
    }
   ],
   "source": [
    "df_study_3 = pd.read_csv('../../Data/study4_olr_formatted.csv', delimiter=',')\n",
    "df_study_3.columns"
   ]
  },
  {
   "cell_type": "code",
   "execution_count": 13,
   "metadata": {},
   "outputs": [
    {
     "name": "stdout",
     "output_type": "stream",
     "text": [
      "Process successfully initialized.\n",
      "Based on the Process Macro by Andrew F. Hayes, Ph.D. (www.afhayes.com)\n",
      "\n",
      "\n",
      "****************************** SPECIFICATION ****************************\n",
      "\n",
      "Model = 4\n",
      "\n",
      "Variables:\n",
      "    Cons = Cons\n",
      "    x = ShameGood\n",
      "    y = ShameActual\n",
      "    m1 = ShameIdeal\n",
      "\n",
      "Sample size:\n",
      "149\n",
      "\n",
      "Bootstrapping information for indirect effects:\n",
      "Final number of bootstrap samples: 5000\n",
      "Number of samples discarded due to convergence issues: 0\n",
      "\n",
      "***************************** OUTCOME MODELS ****************************\n",
      "\n",
      "Outcome = ShameActual \n",
      "OLS Regression Summary\n",
      "\n",
      "     R²  Adj. R²      MSE       F  df1  df2  p-value\n",
      " 0.5351   0.5255 269.8818 84.0182    2  146   0.0000\n",
      "\n",
      "Coefficients\n",
      "\n",
      "            coeff     se      t      p    LLCI    ULCI\n",
      "Cons       7.2190 1.6381 4.4070 0.0000  4.0084 10.4295\n",
      "ShameGood  0.2151 0.1376 1.5631 0.1202 -0.0546  0.4849\n",
      "ShameIdeal 0.6228 0.1304 4.7773 0.0000  0.3673  0.8783\n",
      "\n",
      "-------------------------------------------------------------------------\n",
      "\n",
      "Outcome = ShameIdeal \n",
      "OLS Regression Summary\n",
      "\n",
      "     R²  Adj. R²      MSE       F  df1  df2  p-value\n",
      " 0.3671   0.3585 317.6550 85.2814    1  147   0.0000\n",
      "\n",
      "Coefficients\n",
      "\n",
      "           coeff     se      t      p    LLCI   ULCI\n",
      "Cons      2.6718 1.5932 1.6770 0.0957 -0.4508 5.7944\n",
      "ShameGood 0.5662 0.1113 5.0863 0.0000  0.3480 0.7844\n",
      "\n",
      "-------------------------------------------------------------------------\n",
      "\n",
      "\n",
      "********************** DIRECT AND INDIRECT EFFECTS **********************\n",
      "\n",
      "Direct effect of ShameGood on ShameActual:\n",
      "\n",
      "  Effect     SE      t      p    LLCI   ULCI\n",
      "  0.2151 0.1376 1.5631 0.1202 -0.0546 0.4849\n",
      "\n",
      "Indirect effect of ShameGood on ShameActual:\n",
      "\n",
      "              Effect  Boot SE  BootLLCI  BootULCI\n",
      "  ShameIdeal  0.3526   0.0994    0.1898    0.5864\n",
      "\n",
      "\n"
     ]
    }
   ],
   "source": [
    "\n",
    "# outcome_model = sm.OLS.from_formula(\"depress2 ~ treat + econ_hard + sex + age + job_seek\", \n",
    "#                                     data = r.jobs)\n",
    "\n",
    "p = Process(data=df_study_3, model=4, x=\"ShameGood\", y=\"ShameActual\",  m=[\"ShameIdeal\"])\n",
    "p.summary()"
   ]
  },
  {
   "cell_type": "code",
   "execution_count": null,
   "metadata": {},
   "outputs": [],
   "source": []
  }
 ],
 "metadata": {
  "kernelspec": {
   "display_name": "Python 3",
   "language": "python",
   "name": "python3"
  },
  "language_info": {
   "codemirror_mode": {
    "name": "ipython",
    "version": 3
   },
   "file_extension": ".py",
   "mimetype": "text/x-python",
   "name": "python",
   "nbconvert_exporter": "python",
   "pygments_lexer": "ipython3",
   "version": "3.6.4"
  }
 },
 "nbformat": 4,
 "nbformat_minor": 2
}
